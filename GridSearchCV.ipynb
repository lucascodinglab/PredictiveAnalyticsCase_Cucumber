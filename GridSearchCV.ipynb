{
 "cells": [
  {
   "cell_type": "markdown",
   "id": "bAmu8SWbpqMs",
   "metadata": {
    "id": "bAmu8SWbpqMs"
   },
   "source": [
    "# Preparing Data"
   ]
  },
  {
   "cell_type": "code",
   "execution_count": null,
   "id": "rQIA-GIppqMs",
   "metadata": {
    "executionInfo": {
     "elapsed": 8,
     "status": "ok",
     "timestamp": 1674494684761,
     "user": {
      "displayName": "Andreas",
      "userId": "13546266384270688900"
     },
     "user_tz": -60
    },
    "id": "rQIA-GIppqMs",
    "tags": []
   },
   "outputs": [],
   "source": [
    "import pandas as pd\n",
    "import matplotlib.pyplot as plt"
   ]
  },
  {
   "cell_type": "code",
   "execution_count": null,
   "id": "oiEj9LpSpqMu",
   "metadata": {
    "executionInfo": {
     "elapsed": 7,
     "status": "ok",
     "timestamp": 1674494684762,
     "user": {
      "displayName": "Andreas",
      "userId": "13546266384270688900"
     },
     "user_tz": -60
    },
    "id": "oiEj9LpSpqMu"
   },
   "outputs": [],
   "source": [
    "#for model creation\n",
    "from tensorflow.keras.models import Sequential\n",
    "from tensorflow.keras.layers import Dense\n",
    "from tensorflow.keras.layers import Input\n",
    "from tensorflow.keras.layers import Dropout\n",
    "from tensorflow.keras.optimizers import Adam\n",
    "from tensorflow.keras.optimizers import SGD"
   ]
  },
  {
   "cell_type": "code",
   "execution_count": null,
   "id": "HD8sBG3opqMu",
   "metadata": {
    "executionInfo": {
     "elapsed": 649,
     "status": "ok",
     "timestamp": 1674494685405,
     "user": {
      "displayName": "Andreas",
      "userId": "13546266384270688900"
     },
     "user_tz": -60
    },
    "id": "HD8sBG3opqMu"
   },
   "outputs": [],
   "source": [
    "#for hyperparameter search\n",
    "from sklearn.model_selection import GridSearchCV"
   ]
  },
  {
   "cell_type": "code",
   "execution_count": null,
   "id": "KbZrOP0OpqMw",
   "metadata": {
    "executionInfo": {
     "elapsed": 27,
     "status": "ok",
     "timestamp": 1674494685407,
     "user": {
      "displayName": "Andreas",
      "userId": "13546266384270688900"
     },
     "user_tz": -60
    },
    "id": "KbZrOP0OpqMw"
   },
   "outputs": [],
   "source": [
    "df = pd.read_csv('cucumbers.csv')"
   ]
  },
  {
   "cell_type": "code",
   "execution_count": null,
   "id": "qtOFge9xpqMy",
   "metadata": {
    "executionInfo": {
     "elapsed": 27,
     "status": "ok",
     "timestamp": 1674494685408,
     "user": {
      "displayName": "Andreas",
      "userId": "13546266384270688900"
     },
     "user_tz": -60
    },
    "id": "qtOFge9xpqMy"
   },
   "outputs": [],
   "source": [
    "#df.head()"
   ]
  },
  {
   "cell_type": "code",
   "execution_count": null,
   "id": "5OctW7rjpqMz",
   "metadata": {
    "executionInfo": {
     "elapsed": 27,
     "status": "ok",
     "timestamp": 1674494685409,
     "user": {
      "displayName": "Andreas",
      "userId": "13546266384270688900"
     },
     "user_tz": -60
    },
    "id": "5OctW7rjpqMz"
   },
   "outputs": [],
   "source": [
    "#df.describe()"
   ]
  },
  {
   "cell_type": "code",
   "execution_count": null,
   "id": "uNgFujJZpqM0",
   "metadata": {
    "colab": {
     "base_uri": "https://localhost:8080/",
     "height": 300
    },
    "executionInfo": {
     "elapsed": 26,
     "status": "ok",
     "timestamp": 1674494685409,
     "user": {
      "displayName": "Andreas",
      "userId": "13546266384270688900"
     },
     "user_tz": -60
    },
    "id": "uNgFujJZpqM0",
    "outputId": "aff924ac-362b-4577-be6c-5abecd02f6f6"
   },
   "outputs": [],
   "source": [
    "#deleting outliers in irrigation\n",
    "df = df.loc[df.loc[:,\"irrigation\"] > -20000]\n",
    "df.describe()"
   ]
  },
  {
   "cell_type": "code",
   "execution_count": null,
   "id": "-sULJqdcpqM3",
   "metadata": {
    "executionInfo": {
     "elapsed": 23,
     "status": "ok",
     "timestamp": 1674494685410,
     "user": {
      "displayName": "Andreas",
      "userId": "13546266384270688900"
     },
     "user_tz": -60
    },
    "id": "-sULJqdcpqM3"
   },
   "outputs": [],
   "source": [
    "df = df.dropna()\n",
    "df= df.drop(columns=\"cycle\")\n",
    "#df.isnull().sum()"
   ]
  },
  {
   "cell_type": "code",
   "execution_count": null,
   "id": "3JzBitO5pqM4",
   "metadata": {
    "colab": {
     "base_uri": "https://localhost:8080/",
     "height": 206
    },
    "executionInfo": {
     "elapsed": 23,
     "status": "ok",
     "timestamp": 1674494685411,
     "user": {
      "displayName": "Andreas",
      "userId": "13546266384270688900"
     },
     "user_tz": -60
    },
    "id": "3JzBitO5pqM4",
    "outputId": "05be2375-19ea-4410-ec2c-e88aeb99ac92"
   },
   "outputs": [],
   "source": [
    "#Categorial data to intergers\n",
    "df_onehot = pd.get_dummies(df, 'country')\n",
    "df_onehot.head(5)\n"
   ]
  },
  {
   "cell_type": "code",
   "execution_count": null,
   "id": "sVIJmlQWpqM4",
   "metadata": {
    "executionInfo": {
     "elapsed": 21,
     "status": "ok",
     "timestamp": 1674494685411,
     "user": {
      "displayName": "Andreas",
      "userId": "13546266384270688900"
     },
     "user_tz": -60
    },
    "id": "sVIJmlQWpqM4"
   },
   "outputs": [],
   "source": [
    "#Seperating x(features) from y(targets)\n",
    "target_columns = [\"yield\"]\n",
    "\n",
    "feature_columns = df_onehot.columns.drop(target_columns)\n",
    "n_features = len(feature_columns)\n",
    "\n",
    "# x = input features, y = output targets\n",
    "x = df_onehot.loc[:, feature_columns]\n",
    "y = df_onehot.loc[:, target_columns]\n",
    "\n",
    "#x.head(5)\n",
    "#y.head(5)"
   ]
  },
  {
   "cell_type": "code",
   "execution_count": null,
   "id": "3TuaKdVHpqM6",
   "metadata": {
    "executionInfo": {
     "elapsed": 27,
     "status": "ok",
     "timestamp": 1674494685417,
     "user": {
      "displayName": "Andreas",
      "userId": "13546266384270688900"
     },
     "user_tz": -60
    },
    "id": "3TuaKdVHpqM6"
   },
   "outputs": [],
   "source": [
    "#Train Test Split\n",
    "from sklearn.model_selection import train_test_split\n",
    "\n",
    "x_train, x_test, y_train, y_test = train_test_split(x, y, test_size=0.25, random_state=42)"
   ]
  },
  {
   "cell_type": "code",
   "execution_count": null,
   "id": "ntAfM0JjpqM6",
   "metadata": {
    "executionInfo": {
     "elapsed": 33,
     "status": "ok",
     "timestamp": 1674494685424,
     "user": {
      "displayName": "Andreas",
      "userId": "13546266384270688900"
     },
     "user_tz": -60
    },
    "id": "ntAfM0JjpqM6"
   },
   "outputs": [],
   "source": [
    "#Scaling\n",
    "from sklearn.preprocessing import MinMaxScaler\n",
    "\n",
    "scaler = MinMaxScaler()\n",
    "\n",
    "x_train = scaler.fit_transform(x_train)\n",
    "x_test = scaler.transform(x_test)"
   ]
  },
  {
   "cell_type": "code",
   "execution_count": null,
   "id": "IbJb3Hl7pqM-",
   "metadata": {
    "executionInfo": {
     "elapsed": 41,
     "status": "ok",
     "timestamp": 1674494685432,
     "user": {
      "displayName": "Andreas",
      "userId": "13546266384270688900"
     },
     "user_tz": -60
    },
    "id": "IbJb3Hl7pqM-"
   },
   "outputs": [],
   "source": [
    "#x_test.min()\n",
    "#x_test.max()\n",
    "#x_train.min()\n",
    "#x_train.max()"
   ]
  },
  {
   "cell_type": "code",
   "execution_count": null,
   "id": "5ogSSVJRpqM-",
   "metadata": {
    "executionInfo": {
     "elapsed": 42,
     "status": "ok",
     "timestamp": 1674494685434,
     "user": {
      "displayName": "Andreas",
      "userId": "13546266384270688900"
     },
     "user_tz": -60
    },
    "id": "5ogSSVJRpqM-"
   },
   "outputs": [],
   "source": []
  },
  {
   "cell_type": "code",
   "execution_count": null,
   "id": "BtH1EJrSpqNA",
   "metadata": {
    "executionInfo": {
     "elapsed": 49,
     "status": "ok",
     "timestamp": 1674494685441,
     "user": {
      "displayName": "Andreas",
      "userId": "13546266384270688900"
     },
     "user_tz": -60
    },
    "id": "BtH1EJrSpqNA",
    "tags": []
   },
   "outputs": [],
   "source": [
    "#n_features"
   ]
  },
  {
   "cell_type": "markdown",
   "id": "zXXNgZ4VpqNB",
   "metadata": {
    "id": "zXXNgZ4VpqNB"
   },
   "source": [
    "# Grid Search"
   ]
  },
  {
   "cell_type": "code",
   "execution_count": null,
   "id": "EibCF8ZQpqNB",
   "metadata": {
    "executionInfo": {
     "elapsed": 53,
     "status": "ok",
     "timestamp": 1674494685446,
     "user": {
      "displayName": "Andreas",
      "userId": "13546266384270688900"
     },
     "user_tz": -60
    },
    "id": "EibCF8ZQpqNB"
   },
   "outputs": [],
   "source": [
    "from tensorflow.keras import initializers\n",
    "seed = 42"
   ]
  },
  {
   "cell_type": "code",
   "execution_count": null,
   "id": "eE36HrATpqND",
   "metadata": {
    "executionInfo": {
     "elapsed": 56,
     "status": "ok",
     "timestamp": 1674494685449,
     "user": {
      "displayName": "Andreas",
      "userId": "13546266384270688900"
     },
     "user_tz": -60
    },
    "id": "eE36HrATpqND"
   },
   "outputs": [],
   "source": [
    "#model creation\n",
    "def define_model(activation = \"relu\", optimizer = \"Adam\", neurons_hl1 = 32,neurons_hl2=10, neurons_hl3=10,regulizer = 0, learning_rate = 0.001, hiddenlayers=4):\n",
    "    model = Sequential()\n",
    "    \n",
    "    #input layer\n",
    "    model.add(Input(shape=n_features))\n",
    "    \n",
    "    #hidden layers\n",
    "    if hiddenlayers >0:\n",
    "        model.add(Dense(units=neurons_hl1, activation=activation, kernel_initializer=\"he_normal\",\n",
    "                           kernel_regularizer=tf.keras.regularizers.l2(regulizer)))\n",
    "        #model.add(Dropout=Dropout)\n",
    "    if hiddenlayers >1:\n",
    "        model.add(Dense(units=neurons_hl2, activation=activation, kernel_initializer=\"he_normal\",\n",
    "                           kernel_regularizer=tf.keras.regularizers.l2(regulizer)))\n",
    "        #model.add(Dropout=Dropout)\n",
    "    if hiddenlayers >2:\n",
    "        model.add(Dense(units=neurons_hl3, activation=activation, kernel_initializer=\"he_normal\",\n",
    "                           kernel_regularizer=tf.keras.regularizers.l2(regulizer)))\n",
    "        #model.add(Dropout=Dropout)\n",
    "\n",
    "    if optimizer == \"Adam\":\n",
    "        optimizer = Adam(learning_rate = learning_rate )\n",
    "    if optimizer == \"SGD\"\n",
    "        optimizer = SGD(learning_rate = learning_rate)\n",
    "    \n",
    "    #output layer\n",
    "    model.add(Dense(units=1, activation='linear'))\n",
    "    \n",
    "    #Model compiling\n",
    "    model.compile(optimizer = optimizer, loss='mape')\n",
    "    return model"
   ]
  },
  {
   "cell_type": "code",
   "execution_count": null,
   "id": "3gk-kpm8pqND",
   "metadata": {
    "executionInfo": {
     "elapsed": 23,
     "status": "ok",
     "timestamp": 1674494685756,
     "user": {
      "displayName": "Andreas",
      "userId": "13546266384270688900"
     },
     "user_tz": -60
    },
    "id": "3gk-kpm8pqND"
   },
   "outputs": [],
   "source": [
    "from keras.wrappers.scikit_learn import KerasRegressor\n"
   ]
  },
  {
   "cell_type": "code",
   "execution_count": null,
   "id": "hH6itBzhpqND",
   "metadata": {
    "executionInfo": {
     "elapsed": 23,
     "status": "ok",
     "timestamp": 1674494685757,
     "user": {
      "displayName": "Andreas",
      "userId": "13546266384270688900"
     },
     "user_tz": -60
    },
    "id": "hH6itBzhpqND"
   },
   "outputs": [],
   "source": [
    "batch_size = 32 #64\n",
    "epochs = 200 #300,600"
   ]
  },
  {
   "cell_type": "code",
   "execution_count": null,
   "id": "UhMhvxENpqNE",
   "metadata": {
    "colab": {
     "base_uri": "https://localhost:8080/"
    },
    "executionInfo": {
     "elapsed": 22,
     "status": "ok",
     "timestamp": 1674494685757,
     "user": {
      "displayName": "Andreas",
      "userId": "13546266384270688900"
     },
     "user_tz": -60
    },
    "id": "UhMhvxENpqNE",
    "outputId": "33f420cf-5ce4-4d5f-be4e-6504aa6842d3"
   },
   "outputs": [],
   "source": [
    "seed = 42\n",
    "\n",
    "model = KerasRegressor(build_fn = define_model, epochs = epochs,\n",
    "                       batch_size = batch_size, verbose = 1)"
   ]
  },
  {
   "cell_type": "code",
   "execution_count": null,
   "id": "gc_q4PpSpqNE",
   "metadata": {
    "executionInfo": {
     "elapsed": 18,
     "status": "ok",
     "timestamp": 1674494685758,
     "user": {
      "displayName": "Andreas",
      "userId": "13546266384270688900"
     },
     "user_tz": -60
    },
    "id": "gc_q4PpSpqNE",
    "tags": []
   },
   "outputs": [],
   "source": [
    "#To speed up the grid search we have continued with the best parameters from previous searches.\n",
    "# previous values which were worse, are commentated behind the final paramaters.\n",
    "activation = [\"relu\"] #sigmoid\n",
    "optimizer = [\"Adam\"] #SGD\n",
    "regulizer = [0,0.01,0.005] #L2 is used\n",
    "learning_rate = [0.0045] #0.001\n",
    "neurons_hl1 = [64,252,504] \n",
    "neurons_hl2 = [8,252,504,150]\n",
    "neurons_hl3 = [16,32,64]\n",
    "#all Neurons previously used = [4,8,16,32,64,128,264,552]\n",
    "\n",
    "hiddenlayers= [3] #HiddenLayer combination previously used = [1,2,3]"
   ]
  },
  {
   "cell_type": "code",
   "execution_count": null,
   "id": "phcF-7o3pqNG",
   "metadata": {
    "executionInfo": {
     "elapsed": 18,
     "status": "ok",
     "timestamp": 1674494685758,
     "user": {
      "displayName": "Andreas",
      "userId": "13546266384270688900"
     },
     "user_tz": -60
    },
    "id": "phcF-7o3pqNG"
   },
   "outputs": [],
   "source": [
    "from sklearn.model_selection import cross_val_score  "
   ]
  },
  {
   "cell_type": "code",
   "execution_count": null,
   "id": "GTgrvy_vpqNG",
   "metadata": {
    "executionInfo": {
     "elapsed": 18,
     "status": "ok",
     "timestamp": 1674494685759,
     "user": {
      "displayName": "Andreas",
      "userId": "13546266384270688900"
     },
     "user_tz": -60
    },
    "id": "GTgrvy_vpqNG",
    "tags": []
   },
   "outputs": [],
   "source": [
    "param_grid = dict(activation = activation, optimizer = optimizer, regulizer = regulizer, learning_rate = learning_rate,\n",
    "                  neurons_hl1=neurons_hl1, neurons_hl2=neurons_hl2, neurons_hl3=neurons_hl3, hiddenlayers=hiddenlayers)"
   ]
  },
  {
   "cell_type": "code",
   "execution_count": null,
   "id": "3GCyRumdpqNG",
   "metadata": {
    "executionInfo": {
     "elapsed": 19,
     "status": "ok",
     "timestamp": 1674494685760,
     "user": {
      "displayName": "Andreas",
      "userId": "13546266384270688900"
     },
     "user_tz": -60
    },
    "id": "3GCyRumdpqNG"
   },
   "outputs": [],
   "source": [
    "grid = GridSearchCV(estimator=model, scoring = \"neg_mean_absolute_percentage_error\", \n",
    "                    param_grid = param_grid, n_jobs = -1, cv =5, verbose=1)"
   ]
  },
  {
   "cell_type": "code",
   "execution_count": null,
   "id": "deAwBgkDpqNG",
   "metadata": {
    "executionInfo": {
     "elapsed": 18,
     "status": "ok",
     "timestamp": 1674494685760,
     "user": {
      "displayName": "Andreas",
      "userId": "13546266384270688900"
     },
     "user_tz": -60
    },
    "id": "deAwBgkDpqNG",
    "scrolled": true,
    "tags": []
   },
   "outputs": [],
   "source": [
    "#sorted(sklearn.metrics.SCORERS.keys())"
   ]
  },
  {
   "cell_type": "code",
   "execution_count": null,
   "id": "7JT0HORFpqNG",
   "metadata": {
    "colab": {
     "base_uri": "https://localhost:8080/"
    },
    "executionInfo": {
     "elapsed": 2529977,
     "status": "ok",
     "timestamp": 1674497215719,
     "user": {
      "displayName": "Andreas",
      "userId": "13546266384270688900"
     },
     "user_tz": -60
    },
    "id": "7JT0HORFpqNG",
    "outputId": "efbc7202-2e24-4c98-94be-1dd6e3574491",
    "scrolled": true,
    "tags": []
   },
   "outputs": [],
   "source": [
    "grid_result = grid.fit(x_train, y_train)"
   ]
  },
  {
   "cell_type": "code",
   "execution_count": null,
   "id": "bJpEXDg4pqNI",
   "metadata": {
    "colab": {
     "base_uri": "https://localhost:8080/"
    },
    "executionInfo": {
     "elapsed": 203,
     "status": "ok",
     "timestamp": 1674497215725,
     "user": {
      "displayName": "Andreas",
      "userId": "13546266384270688900"
     },
     "user_tz": -60
    },
    "id": "bJpEXDg4pqNI",
    "outputId": "354ce5d4-26b7-4bbe-fffc-767a59d71862",
    "tags": []
   },
   "outputs": [],
   "source": [
    "print(\"Best: %f using %s\" % (grid_result.best_score_, grid_result.best_params_))"
   ]
  },
  {
   "cell_type": "code",
   "execution_count": null,
   "id": "8KFoj2N2pqNI",
   "metadata": {
    "colab": {
     "base_uri": "https://localhost:8080/"
    },
    "executionInfo": {
     "elapsed": 175,
     "status": "ok",
     "timestamp": 1674497215732,
     "user": {
      "displayName": "Andreas",
      "userId": "13546266384270688900"
     },
     "user_tz": -60
    },
    "id": "8KFoj2N2pqNI",
    "outputId": "e147fe1d-c112-45ec-b35e-2f85f75c35c6",
    "scrolled": true,
    "tags": []
   },
   "outputs": [],
   "source": [
    "means = grid_result.cv_results_[\"mean_test_score\"]\n",
    "stds = grid_result.cv_results_[\"std_test_score\"]\n",
    "params = grid_result.cv_results_[\"params\"]\n",
    "for mean, stdev, param in zip(means, stds, params):\n",
    "    print(\"Mean = %f (std=%f) with: %r\" % (mean, stdev, param))"
   ]
  },
  {
   "cell_type": "code",
   "execution_count": null,
   "id": "B-8x0jA7pqNJ",
   "metadata": {
    "colab": {
     "base_uri": "https://localhost:8080/",
     "height": 363
    },
    "executionInfo": {
     "elapsed": 107,
     "status": "ok",
     "timestamp": 1674497215737,
     "user": {
      "displayName": "Andreas",
      "userId": "13546266384270688900"
     },
     "user_tz": -60
    },
    "id": "B-8x0jA7pqNJ",
    "outputId": "163acb9c-4b20-4fbd-c2ce-7f0e2c43f312"
   },
   "outputs": [],
   "source": [
    "allresults=pd.DataFrame(grid_result.cv_results_)\n",
    "allresults.sort_values(\"mean_test_score\",ascending=False)[[\"param_hiddenlayers\",\"param_neurons_hl1\",\"param_neurons_hl2\",\"mean_test_score\"]].head(10)"
   ]
  }
 ],
 "metadata": {
  "accelerator": "GPU",
  "colab": {
   "provenance": []
  },
  "gpuClass": "standard",
  "kernelspec": {
   "display_name": "Python 3 (ipykernel)",
   "language": "python",
   "name": "python3"
  },
  "language_info": {
   "codemirror_mode": {
    "name": "ipython",
    "version": 3
   },
   "file_extension": ".py",
   "mimetype": "text/x-python",
   "name": "python",
   "nbconvert_exporter": "python",
   "pygments_lexer": "ipython3",
   "version": "3.9.13"
  }
 },
 "nbformat": 4,
 "nbformat_minor": 5
}
